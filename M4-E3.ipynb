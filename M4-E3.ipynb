{
 "cells": [
  {
   "cell_type": "code",
   "execution_count": 30,
   "id": "21260be4-b919-4019-8ff4-d2e154615277",
   "metadata": {},
   "outputs": [
    {
     "name": "stdout",
     "output_type": "stream",
     "text": [
      "E\n",
      "p\n",
      "i\n",
      "c\n",
      "o\n",
      "d\n",
      "e\n"
     ]
    }
   ],
   "source": [
    "# Esercizio 1\n",
    "scuola = \"Epicode\"\n",
    "N = 0\n",
    "while N < len(scuola):\n",
    "    print(scuola[N])\n",
    "    N += 1"
   ]
  },
  {
   "cell_type": "code",
   "execution_count": 6,
   "id": "0e06096c-f0da-4b37-b5c3-a44fc04d4d5b",
   "metadata": {},
   "outputs": [
    {
     "name": "stdout",
     "output_type": "stream",
     "text": [
      "[1, 2, 3, 4, 5, 6, 7, 8, 9, 10, 11, 12, 13, 14, 15, 16, 17, 18, 19, 20]\n"
     ]
    }
   ],
   "source": [
    "# Esercizio 2\n",
    "numero1 = 1\n",
    "numeri = [1, ]\n",
    "conteggio = 1\n",
    "while conteggio < 20:\n",
    "    prossimo_numero= numero1 + conteggio\n",
    "    numeri.append(prossimo_numero)\n",
    "    conteggio += 1\n",
    "print(numeri)"
   ]
  },
  {
   "cell_type": "code",
   "execution_count": 17,
   "id": "75881b5d-e8dd-4ec5-bad5-a21c574a74f0",
   "metadata": {},
   "outputs": [
    {
     "name": "stdout",
     "output_type": "stream",
     "text": [
      "1\n",
      "2\n",
      "4\n",
      "8\n",
      "16\n",
      "32\n",
      "64\n",
      "128\n",
      "256\n",
      "512\n"
     ]
    }
   ],
   "source": [
    "# Eserizio 3\n",
    "esponente = 0\n",
    "while esponente < 10:\n",
    "    print(2 ** esponente)\n",
    "    esponente += 1"
   ]
  },
  {
   "cell_type": "code",
   "execution_count": 21,
   "id": "c1f2a074-97a8-408c-9e74-aa7f0665bab9",
   "metadata": {},
   "outputs": [
    {
     "name": "stdin",
     "output_type": "stream",
     "text": [
      "Quante volte vuoi elevare 2? 10\n"
     ]
    },
    {
     "name": "stdout",
     "output_type": "stream",
     "text": [
      "1\n",
      "2\n",
      "4\n",
      "8\n",
      "16\n",
      "32\n",
      "64\n",
      "128\n",
      "256\n",
      "512\n"
     ]
    }
   ],
   "source": [
    "# Esercizio 4\n",
    "esponente = 0\n",
    "N = int(input(\"Quante volte vuoi elevare 2?\"))\n",
    "while esponente < N:\n",
    "    print(2 ** esponente)\n",
    "    esponente += 1\n"
   ]
  },
  {
   "cell_type": "code",
   "execution_count": 7,
   "id": "a25fc5fa-147d-45df-b2b2-a30659b36a49",
   "metadata": {},
   "outputs": [
    {
     "name": "stdout",
     "output_type": "stream",
     "text": [
      "Il numero di studenti non è uguale al numero di corsi\n"
     ]
    }
   ],
   "source": [
    "# Esercizio 5\n",
    "studenti = ['Andrea', 'Marco', 'Caterina', 'Riccardo', 'Alessia']\n",
    "corsi = ['Chimica', 'Fisica', 'Matematica', 'Inglese']\n",
    "if len(studenti) == len(corsi):\n",
    "    print(\"Il numero di studenti è uguale al numero di corsi\")\n",
    "else:\n",
    "    print(\"Il numero di studenti non è uguale al numero di corsi\")"
   ]
  },
  {
   "cell_type": "code",
   "execution_count": 10,
   "id": "9a57644d-0268-415c-8839-fea6afd5f428",
   "metadata": {},
   "outputs": [
    {
     "name": "stdout",
     "output_type": "stream",
     "text": [
      "['Chimica', 'Fisica', 'Matematica', 'Inglese', 'Chimica']\n"
     ]
    }
   ],
   "source": [
    "# Esercizio 6\n",
    "studenti = ['Andrea', 'Marco', 'Caterina', 'Riccardo', 'Alessia']\n",
    "corsi = ['Chimica', 'Fisica', 'Matematica', 'Inglese']\n",
    "if 'Andrea' in studenti:\n",
    "    corsi.append('Chimica')\n",
    "if len(studenti) == len(corsi):\n",
    "    print(corsi)"
   ]
  },
  {
   "cell_type": "code",
   "execution_count": 32,
   "id": "cb777541-1dba-4685-a7a6-350a4221033b",
   "metadata": {},
   "outputs": [
    {
     "name": "stdin",
     "output_type": "stream",
     "text": [
      "Scrivi una parola andrea\n"
     ]
    },
    {
     "name": "stdout",
     "output_type": "stream",
     "text": [
      "and ... rea\n"
     ]
    }
   ],
   "source": [
    "# Esercizio 7\n",
    "stringa = (input('Scrivi una parola'))\n",
    "if len(stringa) >= 6:\n",
    "    print(stringa[:3],\"...\", stringa[-3:])\n",
    "elif len(stringa) == 5:\n",
    "    print(stringa[:2],\"...\", stringa[-3:])\n",
    "elif len(stringa) == 4:\n",
    "    print(stringa[:2],\"...\", stringa[-2:])\n",
    "elif len(stringa) == 3:\n",
    "    print(stringa[:1],\"...\", stringa[-2:])\n",
    "elif len(stringa) == 2:\n",
    "    print(stringa[:1],\"...\", stringa[-1:])\n",
    "elif len(stringa) == 1:\n",
    "    print(stringa[0],\"...\")"
   ]
  },
  {
   "cell_type": "code",
   "execution_count": null,
   "id": "3de66def-e7b3-43cc-ad4f-bfb59ab74287",
   "metadata": {},
   "outputs": [],
   "source": []
  }
 ],
 "metadata": {
  "kernelspec": {
   "display_name": "Python 3 (ipykernel)",
   "language": "python",
   "name": "python3"
  },
  "language_info": {
   "codemirror_mode": {
    "name": "ipython",
    "version": 3
   },
   "file_extension": ".py",
   "mimetype": "text/x-python",
   "name": "python",
   "nbconvert_exporter": "python",
   "pygments_lexer": "ipython3",
   "version": "3.10.9"
  }
 },
 "nbformat": 4,
 "nbformat_minor": 5
}
