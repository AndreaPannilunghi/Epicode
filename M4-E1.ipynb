{
 "cells": [
  {
   "cell_type": "code",
   "execution_count": 1,
   "id": "d3efc61f-dd90-4e3e-babe-b6eab0e4356f",
   "metadata": {},
   "outputs": [],
   "source": [
    "studenti=(25)"
   ]
  },
  {
   "cell_type": "code",
   "execution_count": 2,
   "id": "2d386ed1-b65a-43bb-b074-e7c22c912d4f",
   "metadata": {},
   "outputs": [
    {
     "name": "stdout",
     "output_type": "stream",
     "text": [
      "25\n"
     ]
    }
   ],
   "source": [
    "print(studenti)"
   ]
  },
  {
   "cell_type": "code",
   "execution_count": 3,
   "id": "d1e675ac-1252-4bc9-8c6b-4285075528a0",
   "metadata": {},
   "outputs": [],
   "source": [
    "studenti2=(3)"
   ]
  },
  {
   "cell_type": "code",
   "execution_count": 5,
   "id": "4908ad29-481e-4627-816c-f9c21fcad13b",
   "metadata": {},
   "outputs": [],
   "source": [
    "studenti3=studenti+studenti2"
   ]
  },
  {
   "cell_type": "code",
   "execution_count": 6,
   "id": "5e151290-acfb-4302-a14f-3c623f0f89e8",
   "metadata": {},
   "outputs": [
    {
     "name": "stdout",
     "output_type": "stream",
     "text": [
      "28\n"
     ]
    }
   ],
   "source": [
    "print(studenti3)"
   ]
  },
  {
   "cell_type": "code",
   "execution_count": 8,
   "id": "d9265f2e-af1e-48a0-b9c9-5f8126a4e3b3",
   "metadata": {},
   "outputs": [],
   "source": [
    "numeri=(0, 1, 2, 3, 4, 5)"
   ]
  },
  {
   "cell_type": "code",
   "execution_count": 9,
   "id": "4aee601c-2050-46cc-9713-de661db7aee6",
   "metadata": {},
   "outputs": [
    {
     "name": "stdout",
     "output_type": "stream",
     "text": [
      "(0, 1, 2, 3, 4, 5)\n"
     ]
    }
   ],
   "source": [
    "print(numeri)"
   ]
  },
  {
   "cell_type": "code",
   "execution_count": 10,
   "id": "a8257d44-56bf-4d52-b695-96f8ea94b03f",
   "metadata": {},
   "outputs": [],
   "source": [
    "film=(\"Avengers\", \"Creed\", \"Up\", \"Spiderman\", \"Seven\")"
   ]
  },
  {
   "cell_type": "code",
   "execution_count": 11,
   "id": "b5ad1138-ed9e-4306-a07d-cd73adfc8e39",
   "metadata": {},
   "outputs": [
    {
     "name": "stdout",
     "output_type": "stream",
     "text": [
      "('Avengers', 'Creed', 'Up', 'Spiderman', 'Seven')\n"
     ]
    }
   ],
   "source": [
    "print(film)"
   ]
  }
 ],
 "metadata": {
  "kernelspec": {
   "display_name": "Python 3 (ipykernel)",
   "language": "python",
   "name": "python3"
  },
  "language_info": {
   "codemirror_mode": {
    "name": "ipython",
    "version": 3
   },
   "file_extension": ".py",
   "mimetype": "text/x-python",
   "name": "python",
   "nbconvert_exporter": "python",
   "pygments_lexer": "ipython3",
   "version": "3.10.9"
  }
 },
 "nbformat": 4,
 "nbformat_minor": 5
}
